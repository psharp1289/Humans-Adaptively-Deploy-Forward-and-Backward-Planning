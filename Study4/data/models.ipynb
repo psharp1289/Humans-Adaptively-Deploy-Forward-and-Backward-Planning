{
 "cells": [
  {
   "cell_type": "code",
   "execution_count": 1,
   "metadata": {},
   "outputs": [
    {
     "name": "stderr",
     "output_type": "stream",
     "text": [
      "/var/folders/t8/0vpf6dyn0q111yjvx8dbs7dc0000gn/T/ipykernel_33670/2074029694.py:60: FutureWarning: The behavior of `series[i:j]` with an integer-dtype index is deprecated. In a future version, this will be treated as *label-based* indexing, consistent with e.g. `series[i]` lookups. To retain the old behavior, use `series.iloc[i:j]`. To get the future behavior, use `series.loc[i:j]`.\n",
      "  print(df_new.m_log[0:20])\n"
     ]
    },
    {
     "name": "stdout",
     "output_type": "stream",
     "text": [
      "0    -0.867501\n",
      "1    -0.798508\n",
      "2    -0.867501\n",
      "3    -2.703063\n",
      "4    -0.798508\n",
      "5    -3.912023\n",
      "6    -4.342806\n",
      "7    -0.867501\n",
      "8    -4.828314\n",
      "9    -4.605170\n",
      "10   -5.521461\n",
      "11   -0.798508\n",
      "12   -2.488915\n",
      "13   -4.074542\n",
      "0    -0.867501\n",
      "1    -0.798508\n",
      "2    -0.867501\n",
      "3    -2.703063\n",
      "4    -0.798508\n",
      "5    -3.912023\n",
      "Name: m_log, dtype: float64\n",
      "   sub_id    v  trial  q     e      m        a      b     b_log     m_log  \\\n",
      "0       1  1.0      1  1  7.06  0.420  0.00036  11.49  2.441477 -0.867501   \n",
      "1       1  1.0      2  1  6.70  0.450  0.00055   6.11  1.809927 -0.798508   \n",
      "2       1  1.0      3  1  5.51  0.420  0.00170  11.49  2.441477 -0.867501   \n",
      "3       1  1.0      4  1  5.22  0.067  0.00036   7.78  2.051556 -2.703063   \n",
      "4       1  1.0      5  1  4.74  0.450  0.00390   6.11  1.809927 -0.798508   \n",
      "\n",
      "      s_log  \n",
      "0 -7.929407  \n",
      "1 -7.505592  \n",
      "2 -6.377127  \n",
      "3 -7.929407  \n",
      "4 -5.546779  \n",
      "        sub_id   v         q         e         m         a         b  \\\n",
      "sub_id     NaN NaN       NaN       NaN       NaN       NaN       NaN   \n",
      "v          NaN NaN       NaN       NaN       NaN       NaN       NaN   \n",
      "q          NaN NaN  1.000000  0.648352  0.556563 -0.213828  0.720649   \n",
      "e          NaN NaN  0.648352  1.000000  0.423520 -0.628118  0.631954   \n",
      "m          NaN NaN  0.556563  0.423520  1.000000  0.337082  0.637584   \n",
      "a          NaN NaN -0.213828 -0.628118  0.337082  1.000000 -0.067416   \n",
      "b          NaN NaN  0.720649  0.631954  0.637584 -0.067416  1.000000   \n",
      "b_log      NaN NaN  0.720649  0.631954  0.637584 -0.067416  1.000000   \n",
      "m_log      NaN NaN  0.556563  0.423520  1.000000  0.337082  0.637584   \n",
      "s_log      NaN NaN -0.213828 -0.628118  0.337082  1.000000 -0.067416   \n",
      "\n",
      "           b_log     m_log     s_log  \n",
      "sub_id       NaN       NaN       NaN  \n",
      "v            NaN       NaN       NaN  \n",
      "q       0.720649  0.556563 -0.213828  \n",
      "e       0.631954  0.423520 -0.628118  \n",
      "m       0.637584  1.000000  0.337082  \n",
      "a      -0.067416  0.337082  1.000000  \n",
      "b       1.000000  0.637584 -0.067416  \n",
      "b_log   1.000000  0.637584 -0.067416  \n",
      "m_log   0.637584  1.000000  0.337082  \n",
      "s_log  -0.067416  0.337082  1.000000  \n",
      "       sub_id         v         q     e      m        a      b     b_log  \\\n",
      "trial                                                                      \n",
      "1       502.0  3.552343  0.767697  7.06  0.420  0.00036  11.49  2.441477   \n",
      "2       502.0  3.552343  0.892323  6.70  0.450  0.00055   6.11  1.809927   \n",
      "3       502.0  3.552343  0.747757  5.51  0.420  0.00170  11.49  2.441477   \n",
      "4       502.0  3.552343  0.917248  5.22  0.067  0.00036   7.78  2.051556   \n",
      "5       502.0  3.552343  0.858425  4.74  0.450  0.00390   6.11  1.809927   \n",
      "6       502.0  3.552343  0.633101  3.75  0.020  0.00055   1.71  0.536493   \n",
      "7       502.0  3.552343  0.603190  3.59  0.013  0.00036   5.30  1.667707   \n",
      "8       502.0  3.552343  0.833500  3.20  0.420  0.01700  11.49  2.441477   \n",
      "9       502.0  3.552343  0.745763  3.05  0.008  0.00036   2.50  0.916291   \n",
      "10      502.0  3.552343  0.676969  1.98  0.010  0.00150   5.62  1.726332   \n",
      "11      502.0  3.552343  0.642074  0.95  0.004  0.00170   2.53  0.928219   \n",
      "12      502.0  3.552343  0.658026  0.85  0.450  0.19000   6.11  1.809927   \n",
      "13      502.0  3.552343  0.729811 -0.18  0.083  0.10000   3.09  1.128171   \n",
      "14      502.0  3.552343  0.561316 -1.62  0.017  0.08600   1.51  0.412110   \n",
      "\n",
      "          m_log     s_log  \n",
      "trial                      \n",
      "1     -0.867501 -7.929407  \n",
      "2     -0.798508 -7.505592  \n",
      "3     -0.867501 -6.377127  \n",
      "4     -2.703063 -7.929407  \n",
      "5     -0.798508 -5.546779  \n",
      "6     -3.912023 -7.505592  \n",
      "7     -4.342806 -7.929407  \n",
      "8     -0.867501 -4.074542  \n",
      "9     -4.828314 -7.929407  \n",
      "10    -4.605170 -6.502290  \n",
      "11    -5.521461 -6.377127  \n",
      "12    -0.798508 -1.660731  \n",
      "13    -2.488915 -2.302585  \n",
      "14    -4.074542 -2.453408  \n"
     ]
    }
   ],
   "source": [
    "import arviz as az\n",
    "import seaborn as sns\n",
    "from scipy.stats import pearsonr as corrp\n",
    "import pandas as pd\n",
    "import matplotlib\n",
    "import json \n",
    "import matplotlib.pyplot as plt\n",
    "import numpy as np\n",
    "import arviz as az\n",
    "import seaborn as sns\n",
    "from scipy.special import expit as logistic\n",
    "\n",
    "df_new=pd.DataFrame()\n",
    "df=pd.read_csv('actual_data_realworld_PR.csv')\n",
    "\n",
    "\n",
    "# ,'m','n','a'\n",
    "variable_names=['q','e','m','a','b']\n",
    "bad_queries=['q8','q10','q14','q11',\n",
    "             'e8','e10','e14','e11',\n",
    "             'm8','m10','m14','m11',\n",
    "             'c8','c10','c14','c11',\n",
    "             'a8','a10','a14','a11',\n",
    "             'b8','b10','b14','b11',\n",
    "             'd8','d10','d14','d11']\n",
    "\n",
    "good_queries=[str(i) for i in [4,\n",
    "5,7,\n",
    "13,\n",
    "16,20,22]]\n",
    "\n",
    "for sub in df.sub_id.unique():\n",
    "    df_temp=pd.DataFrame()\n",
    "    sub_name=[sub]*14\n",
    "    df_temp['sub_id']=sub_name\n",
    "    df_temp['v']=[float(int(df[df['sub_id']==sub].v.values))]*14\n",
    "\n",
    "    #     df_temp['trial']=[1,2,4,5,6,7]\n",
    "    df_temp['trial']=[*np.arange(1,15)]\n",
    "\n",
    "\n",
    "    \n",
    "    for var in variable_names:\n",
    "        df1=df[df.sub_id==sub]\n",
    "#         filter_col = [col for col in df if col.startswith(var) and col not in bad_queries]\n",
    "        filter_col = [col for col in df if col.startswith(var)]\n",
    "\n",
    "        df1=df1[filter_col]\n",
    "        df_temp[var]=df1.values[0]\n",
    "    df_new=pd.concat([df_new,df_temp])\n",
    "df_new['b_log']=np.log(df_new['b'])\n",
    "\n",
    "df_new['m_log']=np.log(df_new['m'])\n",
    "\n",
    "# df_new['d_log']=np.log(df_new['d'])\n",
    "# df_new['e_raw']=np.exp(df_new['e'])\n",
    "# df_new['e_raw']=logistic(df_new['e_raw'])\n",
    "df_new['s_log']=np.log(df_new['a'])\n",
    "# df_new=df_new[df_new['m_log']>-4]\n",
    "print(df_new.m_log[0:20])\n",
    "\n",
    "Q=df_new['q']\n",
    "sub_id=df_new['sub_id']\n",
    "trials=df_new['trial']\n",
    "# df_new=df_new.drop(columns=[sub_id'])\n",
    "# df_new_std=(df_new-df_new.mean())/df_new.std()\n",
    "\n",
    "print(df_new.head())\n",
    "\n",
    "# df_new=df_new[(df_new['e']>0)]\n",
    "\n",
    "\n",
    "# df_new['a_log']=np.log(df_new['a'])\n",
    "\n",
    "df_new.to_csv('data_rw_bysub_fixed_full.csv')\n",
    "\n",
    "df_new_groupby_e=df_new.groupby('e').mean()\n",
    "# df_new_groupby_b=df_new.groupby('b').mean()\n",
    "df_new_groupby_m=df_new.groupby('m').mean()\n",
    "# df_new_groupby_n=df_new.groupby('n').mean()\n",
    "# df_new_groupby_s=df_new.groupby('a').mean()\n",
    "df_new_groupby_t=df_new.groupby('trial').mean()\n",
    "# df_new_groupby_t=df_new.groupby('trial').std()\n",
    "\n",
    "\n",
    "df_new_groupby_t.to_csv('all_values.csv')\n",
    "df_new_groupby_t_std=(df_new_groupby_t-df_new_groupby_t.mean())/df_new_groupby_t.std()\n",
    "\n",
    "\n",
    "print(df_new_groupby_t.corr(method='spearman'))\n",
    "print(df_new_groupby_t)\n",
    "\n"
   ]
  },
  {
   "cell_type": "code",
   "execution_count": 3,
   "metadata": {},
   "outputs": [
    {
     "name": "stdout",
     "output_type": "stream",
     "text": [
      "3003\n",
      "0.35830229021388404\n",
      "6\n",
      "[0.35830229021388404, 0.25048043783577667]\n",
      "(5.51, 5.22, 4.74, 3.75, 3.59, 3.2)\n"
     ]
    }
   ],
   "source": [
    "import itertools\n",
    "def findsubsets(s, n):\n",
    "    return list(itertools.combinations(s, n))\n",
    " \n",
    "# Driver Code\n",
    "s = df_new_groupby_t.e.values.tolist()\n",
    "n = 6\n",
    "\n",
    "\n",
    "subsets=findsubsets(s, n)\n",
    "print(len(subsets))\n",
    "\n",
    "all_max_corrs=[]\n",
    "all_corrs=[]\n",
    "all_divergings=[]\n",
    "c=1\n",
    "for diverginess in subsets:\n",
    "    df_temp=df_new_groupby_t[df_new_groupby_t.e.isin(diverginess)]\n",
    "    succs=df_temp.s_log.values.tolist()\n",
    "    preds=df_temp.m_log.values.tolist()\n",
    "    r1,p1=corrp(preds,diverginess)\n",
    "    r2,p2=corrp(succs,diverginess)\n",
    "    both_corrs=[np.abs(r1),np.abs(r2)]\n",
    "    max_corr=np.max(both_corrs)\n",
    "    all_corrs.append(both_corrs)\n",
    "    all_max_corrs.append(max_corr)\n",
    "    all_divergings.append(diverginess)\n",
    "\n",
    "min_value = min(all_max_corrs)\n",
    "print(min_value)\n",
    "index = all_max_corrs.index(min_value)\n",
    "print(len(preds))\n",
    "print(all_corrs[index])\n",
    "print(all_divergings[index])\n",
    "\n",
    "    "
   ]
  },
  {
   "cell_type": "code",
   "execution_count": 490,
   "metadata": {},
   "outputs": [
    {
     "name": "stdout",
     "output_type": "stream",
     "text": [
      "319770\n",
      "2.9050625357299844\n",
      "8\n",
      "[8.358923760693955, 2.9050625357299844]\n",
      "(5.34, 3.76, 2.62, 1.46, -1.66, -2.89, -4.54, -6.42)\n"
     ]
    }
   ],
   "source": [
    "import itertools\n",
    "def findsubsets(s, n):\n",
    "    return list(itertools.combinations(s, n))\n",
    " \n",
    "# Driver Code\n",
    "s = df_new_groupby_t.e.values.tolist()\n",
    "n = 8\n",
    "\n",
    "\n",
    "subsets=findsubsets(s, n)\n",
    "print(len(subsets))\n",
    "\n",
    "all_min_vars=[]\n",
    "all_vars=[]\n",
    "all_divergings=[]\n",
    "c=1\n",
    "for diverginess in subsets:\n",
    "    df_temp=df_new_groupby_t[df_new_groupby_t.e.isin(diverginess)]\n",
    "    succs=df_temp.s_log.values.tolist()\n",
    "    preds=df_temp.m_log.values.tolist()\n",
    "    r1,p1=corrp(preds,diverginess)\n",
    "    r2,p2=corrp(succs,diverginess)\n",
    "    #     var(diverginess)*(1-corr^2)\n",
    "    both_vars=[np.var(diverginess)*(1-r1**2),np.var(diverginess)*(1-r2**2)]\n",
    "    min_var=np.min(both_vars)\n",
    "    all_vars.append(both_vars)\n",
    "    all_min_vars.append(min_var)\n",
    "    all_divergings.append(diverginess)\n",
    "\n",
    "max_value = max(all_min_vars)\n",
    "print(max_value)\n",
    "index = all_min_vars.index(max_value)\n",
    "print(len(preds))\n",
    "print(all_vars[index])\n",
    "print(all_divergings[index])\n",
    "\n",
    "    "
   ]
  },
  {
   "cell_type": "code",
   "execution_count": 8,
   "metadata": {},
   "outputs": [
    {
     "data": {
      "image/png": "[encoded data removed]",
      "text/plain": [
       "<Figure size 432x288 with 1 Axes>"
      ]
     },
     "metadata": {},
     "output_type": "display_data"
    },
    {
     "data": {
      "image/png": "[encoded data removed]",
      "text/plain": [
       "<Figure size 432x446.4 with 1 Axes>"
      ]
     },
     "metadata": {},
     "output_type": "display_data"
    }
   ],
   "source": [
    "sns.set(style='white', font='arial', font_scale=1.3, rc=None)\n",
    "\n",
    "ax=sns.scatterplot(x='s_log',y='q',data=df_new_groupby_t)\n",
    "\n",
    "ax.set(xlabel='log successor prob', ylabel='avg choice')\n",
    "plt.tight_layout()\n",
    "\n",
    "# plt.savefig('logbaserateratio_choice_justhigh.png',dpi=300)\n",
    "plt.show()\n",
    "\n",
    "\n",
    "\n",
    "# Set style and font\n",
    "sns.set(style='white', font='arial', font_scale=1.5, rc=None)\n",
    "\n",
    "# Create the scatter plot\n",
    "fig, ax = plt.subplots(figsize=(6, 6.2))  # Adjust the figsize to make the height higher than the width\n",
    "sns.scatterplot(x='e', y='q', data=df_new_groupby_t, marker=\"o\", color='black', s=100, ax=ax)\n",
    "\n",
    "# Set labels and x-axis range\n",
    "ax.set(xlabel='Query divergence', ylabel='Consistency of choice\\n with backward learning')\n",
    "ax.set_yticks(np.arange(0.5, 1.10, 0.1))\n",
    "ax.set_ylim(0.49, 1)  # Ensure y-axis includes the value 1\n",
    "\n",
    "\n",
    "# Add the green dashed line (replace \"actual_values\" and \"pred_values\" with your actual data)\n",
    "ax.plot(actual_values, pred_values, color='g', linewidth=2, linestyle='dashed')\n",
    "\n",
    "# Add the legend for the 0.5 marker\n",
    "ax.axhline(0.5, color='orange',linewidth=3, linestyle='-', label=\"No evidence of backward learning\")\n",
    "\n",
    "# Save and show the plot\n",
    "plt.tight_layout()\n",
    "plt.savefig('scatterplot_diverginess_avgchoice_overlaidSigmoidRegressionLine.png', dpi=300)\n",
    "plt.show()\n"
   ]
  },
  {
   "cell_type": "code",
   "execution_count": 696,
   "metadata": {},
   "outputs": [
    {
     "name": "stdout",
     "output_type": "stream",
     "text": [
      "   sub_id    v  trial  q     e      m        a      b     b_log     m_log  \\\n",
      "0       1  1.0      1  1  7.06  0.420  0.00036  11.49  2.441477 -0.867501   \n",
      "1       1  1.0      2  1  6.70  0.450  0.00055   6.11  1.809927 -0.798508   \n",
      "2       1  1.0      3  0  5.51  0.420  0.00170  11.49  2.441477 -0.867501   \n",
      "3       1  1.0      4  1  5.22  0.067  0.00036   7.78  2.051556 -2.703063   \n",
      "4       1  1.0      5  0  4.74  0.450  0.00390   6.11  1.809927 -0.798508   \n",
      "\n",
      "      s_log  \n",
      "0 -7.929407  \n",
      "1 -7.505592  \n",
      "2 -6.377127  \n",
      "3 -7.929407  \n",
      "4 -5.546779  \n"
     ]
    }
   ],
   "source": [
    "print(df_new.head())"
   ]
  },
  {
   "cell_type": "code",
   "execution_count": 592,
   "metadata": {},
   "outputs": [
    {
     "data": {
      "image/png": "[encoded data removed]",
      "text/plain": [
       "<Figure size 432x288 with 1 Axes>"
      ]
     },
     "metadata": {},
     "output_type": "display_data"
    }
   ],
   "source": [
    "## sns.set(style='white', font='arial', font_scale=1.3, rc=None)\n",
    "\n",
    "ax=sns.scatterplot(x='m_log',y='q',data=df_new_groupby_t)\n",
    "ax.set(xlabel='pred prob', ylabel='avg choice')\n",
    "# plt.ylim([0,1])\n",
    "plt.tight_layout()\n",
    "# plt.savefig('diverginess_entropy_choice_demeaned.png',dpi=300)\n",
    "plt.show()\n"
   ]
  },
  {
   "cell_type": "code",
   "execution_count": 47,
   "metadata": {},
   "outputs": [],
   "source": [
    "df_new=df_new.drop(columns=['q','sub_id','trial'])\n",
    "df_new_std=(df_new-df_new.mean())/df_new.std()\n",
    "df_new_std['q']=Q\n",
    "df_new_std['sub_id']=sub_id\n",
    "df_new_std['trial']=trials\n",
    "df_new_std.to_csv('data_rw_bysub_fixed_std.csv')"
   ]
  },
  {
   "cell_type": "code",
   "execution_count": 107,
   "metadata": {},
   "outputs": [
    {
     "name": "stdout",
     "output_type": "stream",
     "text": [
      "[ 0  1  2 ... 11 12 13]\n"
     ]
    },
    {
     "name": "stderr",
     "output_type": "stream",
     "text": [
      "/Library/Frameworks/Python.framework/Versions/3.9/lib/python3.9/site-packages/pymc/data.py:406: UserWarning: The `mutable` kwarg was not specified. Before v4.1.0 it defaulted to `pm.Data(mutable=True)`, which is equivalent to using `pm.MutableData()`. In v4.1.0 the default changed to `pm.Data(mutable=False)`, equivalent to `pm.ConstantData`. Use `pm.ConstantData`/`pm.MutableData` or pass `pm.Data(..., mutable=False/True)` to avoid this warning.\n",
      "  \"\"\"\n"
     ]
    },
    {
     "data": {
      "text/plain": [
       "'model_graph.png'"
      ]
     },
     "execution_count": 107,
     "metadata": {},
     "output_type": "execute_result"
    }
   ],
   "source": [
    "import pymc as pm\n",
    "from scipy.special import expit \n",
    "\n",
    "sub_idxs, subjs = pd.factorize(df_new.sub_id)\n",
    "trial_idxs,trials = pd.factorize(df_new.trial)\n",
    "print(trial_idxs)\n",
    "\n",
    "coords = {\n",
    "    \"subj\": subjs,\n",
    "    \"obs_id\": np.arange(len(sub_idxs)),\n",
    "    \"trial\":trials,\n",
    "}\n",
    "\n",
    "\n",
    "    \n",
    "with pm.Model(coords=coords) as hierarchical_model:\n",
    "    sub_idxs = pm.Data(\"sub_idxs\", sub_idxs, dims=\"obs_id\")\n",
    "    trial_idxs = pm.Data(\"trial_idxs\", trial_idxs, dims=\"obs_id\")\n",
    "    \n",
    "    log_pred = pm.Data(\"log_pred_data\", df_new.m_log.values, dims=\"obs_id\")\n",
    "    diverginess = pm.Data(\"div_data\", df_new.e.values, dims=\"obs_id\")\n",
    "\n",
    "    # Hyperpriors for hierarchical effects of subject and trial\n",
    "    \n",
    "    sigma_trial = pm.HalfNormal(\"var_trial\", 1)\n",
    "    sigma_subject = pm.HalfNormal(\"var_subj\", 1)\n",
    "    alpha_subject = pm.Normal(\"alpha_subj\", 0,1)\n",
    "\n",
    "   \n",
    "    #Fixed effects for diverginess and log_pred_prob and general intercept\n",
    "    diverginess_effect = pm.Normal(\"div\", 0,1)\n",
    "    log_pred_effect = pm.Normal(\"pred\", 0,1)\n",
    "    intercept= pm.Normal(\"Intercept\",0,1)\n",
    "\n",
    "    \n",
    "    #subject-level effects of trial and subject\n",
    "    trial_effect=pm.Normal(\"trial_effect\", mu=0, sigma=sigma_trial, dims=\"trial\")\n",
    "    subj_effect =pm.SkewNormal(\"subj_effect\", mu=0, alpha=alpha_subject,sigma=sigma_subject, dims=\"subj\")\n",
    "    theta_raw = pm.Deterministic('integrate_effects',(intercept+(diverginess_effect*diverginess) + (log_pred_effect*log_pred) + subj_effect[sub_idxs] +trial_effect[trial_idxs]))\n",
    "    theta = pm.Deterministic('logistic link function',(pm.math.invlogit(theta_raw)))\n",
    "\n",
    "    # Data likelihood\n",
    "    y = pm.Bernoulli(\"data\",p=theta,observed=df_new.q.values,dims=\"obs_id\")\n",
    "\n",
    "gv=pm.model_to_graphviz(hierarchical_model)\n",
    "gv.format = 'png'\n",
    "gv.render(filename='model_graph')\n",
    "# plt.show()"
   ]
  },
  {
   "cell_type": "code",
   "execution_count": 36,
   "metadata": {},
   "outputs": [
    {
     "name": "stderr",
     "output_type": "stream",
     "text": [
      "/Library/Frameworks/Python.framework/Versions/3.9/lib/python3.9/site-packages/pymc/data.py:427: UserWarning: The `mutable` kwarg was not specified. Before v4.1.0 it defaulted to `pm.Data(mutable=True)`, which is equivalent to using `pm.MutableData()`. In v4.1.0 the default changed to `pm.Data(mutable=False)`, equivalent to `pm.ConstantData`. Use `pm.ConstantData`/`pm.MutableData` or pass `pm.Data(..., mutable=False/True)` to avoid this warning.\n",
      "  warnings.warn(\n"
     ]
    }
   ],
   "source": [
    "import pymc as pm\n",
    "import numpy as np\n",
    "import pandas as pd\n",
    "from scipy.special import expit\n",
    "\n",
    "sub_idxs, subjs = pd.factorize(df_new.sub_id)\n",
    "trial_idxs, trials = pd.factorize(df_new.trial)\n",
    "\n",
    "coords = {\n",
    "    \"subj\": subjs,\n",
    "    \"obs_id\": np.arange(len(sub_idxs)),\n",
    "    \"trial\": trials,\n",
    "}\n",
    "\n",
    "with pm.Model(coords=coords) as hierarchical_model2:\n",
    "    sub_idxs = pm.Data(\"subject IDs\", sub_idxs, dims=\"obs_id\")\n",
    "    trial_idxs = pm.Data(\"trials\", trial_idxs, dims=\"obs_id\")\n",
    "\n",
    "    log_pred = pm.Data(\"log starting state probability data\", df_new.m_log.values, dims=\"obs_id\")\n",
    "    diverginess = pm.Data(\"divergence data\", df_new.e.values, dims=\"obs_id\")\n",
    "\n",
    "    # Hyperpriors for hierarchical effects of subject and trial\n",
    "    sigma_trial = pm.HalfNormal(\"var_trial\", 10)\n",
    "    sigma_subject = pm.HalfNormal(\"var_subj\", 10)\n",
    "\n",
    "    # Fixed effects for diverginess and log_pred_prob and general intercept\n",
    "    diverginess_effect = pm.Normal(\"divergence effect\", 0, 1)\n",
    "    log_pred_effect = pm.Normal(\"log starting state probability effect\", 0, 1)\n",
    "    intercept = pm.Normal(\"Intercept\", 0, 1)\n",
    "\n",
    "    # Subject-level effects of trial and subject\n",
    "    trial_effect = pm.Normal(\"trial effect\", mu=0, sigma=sigma_trial, dims=\"trial\")\n",
    "    subj_effect = pm.Normal(\"subject effect\", mu=0, sigma=sigma_subject, dims=\"subj\")\n",
    "\n",
    "    # Reparameterize theta using a Beta distribution\n",
    "    omega = pm.Deterministic(\n",
    "        \"mu\",(intercept\n",
    "        + (diverginess_effect * diverginess)\n",
    "        + (log_pred_effect * log_pred)\n",
    "        + subj_effect[sub_idxs]\n",
    "        + trial_effect[trial_idxs]))\n",
    "\n",
    "    theta = pm.Deterministic('logistic link', pm.math.invlogit(omega))\n",
    "\n",
    "    # Data likelihood\n",
    "    y = pm.Bernoulli(\"data\", p=theta, observed=df_new.q.values, dims=\"obs_id\")\n",
    "\n",
    "gv=pm.model_to_graphviz(hierarchical_model2)\n",
    "gv.format = 'png'\n",
    "gv.render(filename='model_graph_bayesian_model_PRrealworld')\n",
    "plt.show()\n",
    "# with hierarchical_model2:\n",
    "#     trace_logistic_model2 = pm.sample(draws=1000, target_accept=0.975, tune=500, cores=4)\n"
   ]
  },
  {
   "cell_type": "code",
   "execution_count": 136,
   "metadata": {},
   "outputs": [
    {
     "name": "stdout",
     "output_type": "stream",
     "text": [
      "            mean     sd  hdi_2.5%  hdi_97.5%  mcse_mean  mcse_sd  ess_bulk  \\\n",
      "div        0.157  0.071     0.023      0.307      0.002    0.002     880.0   \n",
      "pred       0.082  0.098    -0.107      0.272      0.004    0.003     730.0   \n",
      "Intercept  0.861  0.435     0.005      1.718      0.015    0.011     813.0   \n",
      "var_subj   0.549  0.032     0.487      0.611      0.002    0.001     383.0   \n",
      "\n",
      "           ess_tail  r_hat  \n",
      "div           962.0   1.00  \n",
      "pred         1070.0   1.01  \n",
      "Intercept    1247.0   1.01  \n",
      "var_subj      989.0   1.00  \n"
     ]
    }
   ],
   "source": [
    "print(az.summary(trace_logistic_model2,var_names=['div','pred','Intercept','var_subj'],hdi_prob=0.95))"
   ]
  },
  {
   "cell_type": "code",
   "execution_count": 137,
   "metadata": {},
   "outputs": [
    {
     "name": "stderr",
     "output_type": "stream",
     "text": [
      "/Library/Frameworks/Python.framework/Versions/3.9/lib/python3.9/site-packages/pymc/data.py:406: UserWarning: The `mutable` kwarg was not specified. Before v4.1.0 it defaulted to `pm.Data(mutable=True)`, which is equivalent to using `pm.MutableData()`. In v4.1.0 the default changed to `pm.Data(mutable=False)`, equivalent to `pm.ConstantData`. Use `pm.ConstantData`/`pm.MutableData` or pass `pm.Data(..., mutable=False/True)` to avoid this warning.\n",
      "  \"\"\"\n",
      "Auto-assigning NUTS sampler...\n",
      "INFO:pymc:Auto-assigning NUTS sampler...\n",
      "Initializing NUTS using jitter+adapt_diag...\n",
      "INFO:pymc:Initializing NUTS using jitter+adapt_diag...\n",
      "Multiprocess sampling (4 chains in 4 jobs)\n",
      "INFO:pymc:Multiprocess sampling (4 chains in 4 jobs)\n",
      "NUTS: [var_trial, var_subj, div, succ, Intercept, trial_effect, subj_effect]\n",
      "INFO:pymc:NUTS: [var_trial, var_subj, div, succ, Intercept, trial_effect, subj_effect]\n"
     ]
    },
    {
     "data": {
      "text/html": [
       "\n",
       "<style>\n",
       "    /* Turns off some styling */\n",
       "    progress {\n",
       "        /* gets rid of default border in Firefox and Opera. */\n",
       "        border: none;\n",
       "        /* Needs to be in here for Safari polyfill so background images work as expected. */\n",
       "        background-size: auto;\n",
       "    }\n",
       "    progress:not([value]), progress:not([value])::-webkit-progress-bar {\n",
       "        background: repeating-linear-gradient(45deg, #7e7e7e, #7e7e7e 10px, #5c5c5c 10px, #5c5c5c 20px);\n",
       "    }\n",
       "    .progress-bar-interrupted, .progress-bar-interrupted::-webkit-progress-bar {\n",
       "        background: #F44336;\n",
       "    }\n",
       "</style>\n"
      ],
      "text/plain": [
       "<IPython.core.display.HTML object>"
      ]
     },
     "metadata": {},
     "output_type": "display_data"
    },
    {
     "data": {
      "text/html": [
       "\n",
       "    <div>\n",
       "      <progress value='6000' class='' max='6000' style='width:300px; height:20px; vertical-align: middle;'></progress>\n",
       "      100.00% [6000/6000 18:21&lt;00:00 Sampling 4 chains, 0 divergences]\n",
       "    </div>\n",
       "    "
      ],
      "text/plain": [
       "<IPython.core.display.HTML object>"
      ]
     },
     "metadata": {},
     "output_type": "display_data"
    },
    {
     "name": "stderr",
     "output_type": "stream",
     "text": [
      "Sampling 4 chains for 500 tune and 1_000 draw iterations (2_000 + 4_000 draws total) took 1124 seconds.\n",
      "INFO:pymc:Sampling 4 chains for 500 tune and 1_000 draw iterations (2_000 + 4_000 draws total) took 1124 seconds.\n"
     ]
    }
   ],
   "source": [
    "import pymc as pm\n",
    "import numpy as np\n",
    "import pandas as pd\n",
    "from scipy.special import expit\n",
    "\n",
    "sub_idxs, subjs = pd.factorize(df_new.sub_id)\n",
    "trial_idxs, trials = pd.factorize(df_new.trial)\n",
    "\n",
    "coords = {\n",
    "    \"subj\": subjs,\n",
    "    \"obs_id\": np.arange(len(sub_idxs)),\n",
    "    \"trial\": trials,\n",
    "}\n",
    "\n",
    "with pm.Model(coords=coords) as hierarchical_model3:\n",
    "    sub_idxs = pm.Data(\"sub_idxs\", sub_idxs, dims=\"obs_id\")\n",
    "    trial_idxs = pm.Data(\"trial_idxs\", trial_idxs, dims=\"obs_id\")\n",
    "\n",
    "    log_succ = pm.Data(\"log_pred_data\", df_new.s_log.values, dims=\"obs_id\")\n",
    "    diverginess = pm.Data(\"div_data\", df_new.e.values, dims=\"obs_id\")\n",
    "\n",
    "    # Hyperpriors for hierarchical effects of subject and trial\n",
    "    sigma_trial = pm.HalfNormal(\"var_trial\", 10)\n",
    "    sigma_subject = pm.HalfNormal(\"var_subj\", 10)\n",
    "\n",
    "    # Fixed effects for diverginess and log_pred_prob and general intercept\n",
    "    diverginess_effect = pm.Normal(\"div\", 0, 1)\n",
    "    log_succ_effect = pm.Normal(\"succ\", 0, 1)\n",
    "    intercept = pm.Normal(\"Intercept\", 0, 1)\n",
    "\n",
    "    # Subject-level effects of trial and subject\n",
    "    trial_effect = pm.Normal(\"trial_effect\", mu=0, sigma=sigma_trial, dims=\"trial\")\n",
    "    subj_effect = pm.Normal(\"subj_effect\", mu=0, sigma=sigma_subject, dims=\"subj\")\n",
    "\n",
    "    # Reparameterize theta using a Beta distribution\n",
    "    omega = pm.Deterministic(\n",
    "        \"mu\",(intercept\n",
    "        + (diverginess_effect * diverginess)\n",
    "        + (log_succ_effect * log_succ)\n",
    "        + subj_effect[sub_idxs]\n",
    "        + trial_effect[trial_idxs]))\n",
    "\n",
    "    theta = pm.Deterministic('logistic link', pm.math.invlogit(omega))\n",
    "\n",
    "    # Data likelihood\n",
    "    y = pm.Bernoulli(\"data\", p=theta, observed=df_new.q.values, dims=\"obs_id\")\n",
    "\n",
    "\n",
    "with hierarchical_model3:\n",
    "    trace_logistic_model3 = pm.sample(draws=1000, target_accept=0.975, tune=500, cores=4)\n"
   ]
  },
  {
   "cell_type": "code",
   "execution_count": 138,
   "metadata": {},
   "outputs": [
    {
     "name": "stdout",
     "output_type": "stream",
     "text": [
      "            mean     sd  hdi_2.5%  hdi_97.5%  mcse_mean  mcse_sd  ess_bulk  \\\n",
      "div        0.234  0.096     0.039      0.413      0.003    0.002    1111.0   \n",
      "succ       0.077  0.100    -0.119      0.260      0.003    0.002    1079.0   \n",
      "Intercept  0.855  0.438    -0.017      1.680      0.012    0.009    1260.0   \n",
      "var_subj   0.543  0.032     0.476      0.602      0.001    0.001     496.0   \n",
      "\n",
      "           ess_tail  r_hat  \n",
      "div          1411.0    1.0  \n",
      "succ         1274.0    1.0  \n",
      "Intercept    1529.0    1.0  \n",
      "var_subj     1121.0    1.0  \n"
     ]
    }
   ],
   "source": [
    "print(az.summary(trace_logistic_model3,var_names=['div','succ','Intercept','var_subj'],hdi_prob=0.95))"
   ]
  },
  {
   "cell_type": "code",
   "execution_count": 5,
   "metadata": {},
   "outputs": [
    {
     "name": "stdout",
     "output_type": "stream",
     "text": [
      "trial\n",
      "1     0.309320\n",
      "2     1.432371\n",
      "3     0.129632\n",
      "4     1.656981\n",
      "5     1.126901\n",
      "6    -0.903575\n",
      "7    -1.173107\n",
      "8     0.902291\n",
      "9     0.111663\n",
      "10   -0.508261\n",
      "11   -0.822715\n",
      "12   -0.678964\n",
      "13   -0.032087\n",
      "14   -1.550452\n",
      "Name: q, dtype: float64\n",
      "       sub_id         v         q     e      m        a      b     b_log  \\\n",
      "trial                                                                      \n",
      "1       502.0  3.552343  0.767697  7.06  0.420  0.00036  11.49  2.441477   \n",
      "2       502.0  3.552343  0.892323  6.70  0.450  0.00055   6.11  1.809927   \n",
      "3       502.0  3.552343  0.747757  5.51  0.420  0.00170  11.49  2.441477   \n",
      "4       502.0  3.552343  0.917248  5.22  0.067  0.00036   7.78  2.051556   \n",
      "5       502.0  3.552343  0.858425  4.74  0.450  0.00390   6.11  1.809927   \n",
      "6       502.0  3.552343  0.633101  3.75  0.020  0.00055   1.71  0.536493   \n",
      "7       502.0  3.552343  0.603190  3.59  0.013  0.00036   5.30  1.667707   \n",
      "8       502.0  3.552343  0.833500  3.20  0.420  0.01700  11.49  2.441477   \n",
      "9       502.0  3.552343  0.745763  3.05  0.008  0.00036   2.50  0.916291   \n",
      "10      502.0  3.552343  0.676969  1.98  0.010  0.00150   5.62  1.726332   \n",
      "11      502.0  3.552343  0.642074  0.95  0.004  0.00170   2.53  0.928219   \n",
      "12      502.0  3.552343  0.658026  0.85  0.450  0.19000   6.11  1.809927   \n",
      "13      502.0  3.552343  0.729811 -0.18  0.083  0.10000   3.09  1.128171   \n",
      "14      502.0  3.552343  0.561316 -1.62  0.017  0.08600   1.51  0.412110   \n",
      "\n",
      "          m_log     s_log  \n",
      "trial                      \n",
      "1     -0.867501 -7.929407  \n",
      "2     -0.798508 -7.505592  \n",
      "3     -0.867501 -6.377127  \n",
      "4     -2.703063 -7.929407  \n",
      "5     -0.798508 -5.546779  \n",
      "6     -3.912023 -7.505592  \n",
      "7     -4.342806 -7.929407  \n",
      "8     -0.867501 -4.074542  \n",
      "9     -4.828314 -7.929407  \n",
      "10    -4.605170 -6.502290  \n",
      "11    -5.521461 -6.377127  \n",
      "12    -0.798508 -1.660731  \n",
      "13    -2.488915 -2.302585  \n",
      "14    -4.074542 -2.453408  \n",
      "     predicted avg choice  avg real choice\n",
      "0                0.549834            -2.00\n",
      "1                0.550304            -1.99\n",
      "2                0.550774            -1.98\n",
      "3                0.551244            -1.97\n",
      "4                0.551714            -1.96\n",
      "..                    ...              ...\n",
      "995              0.889976             7.95\n",
      "996              0.890162             7.96\n",
      "997              0.890348             7.97\n",
      "998              0.890533             7.98\n",
      "999              0.890718             7.99\n",
      "\n",
      "[1000 rows x 2 columns]\n"
     ]
    }
   ],
   "source": [
    "import seaborn as sns\n",
    "import numpy as np\n",
    "import pandas as pd\n",
    "from scipy.stats import spearmanr as corr\n",
    "from scipy.special import expit as logistic\n",
    "from scipy.special import logit\n",
    "\n",
    "# Extract posterior samples for the coefficients of x1 and x2\n",
    "pred_values_based_on_logbaserateratio= []\n",
    "residual_values = []\n",
    "pred_values_based_on_entropy=[]\n",
    "pred_values=[]\n",
    "actual_values=[x for x in np.arange(-2,8,0.01)]\n",
    "trial_num=0\n",
    "print(df_new_groupby_t_std.q)\n",
    "print(df_new_groupby_t)\n",
    "for entropy_val in np.arange(-2,8,0.01):\n",
    "    pred_values.append(logistic(0.19*entropy_val+0.58))\n",
    "#     print(results_trial_effect5.posterior[\"e\"].values.mean()*entropy_val)\n",
    "#     actual_values.append(df_new_groupby_t.q[trial_num+1])\n",
    "    trial_num+=1\n",
    "    \n",
    "\n",
    "\n",
    "df_residual=pd.DataFrame()\n",
    "\n",
    "# df_residual['residual log odds']=residual_values\n",
    "df_residual['predicted avg choice'] = pred_values\n",
    "df_residual['avg real choice'] = actual_values \n",
    "entropy_values=df_new_groupby_t.e.values\n",
    "entropy_values=entropy_values.tolist()\n",
    "print(df_residual)\n",
    "# df_residual['diverginess']=entropy_values\n",
    "# df_residual_by_e=df_residual.groupby('diverginess').mean()\n",
    "# r,p=corr(residual_values,entropy_values)\n",
    "# print('correlation resid variance average and entropy: {}'.format(r))\n",
    "# Reshape coefficient samples to match the dimensions of the data\n",
    "\n"
   ]
  },
  {
   "cell_type": "code",
   "execution_count": 18,
   "metadata": {},
   "outputs": [
    {
     "data": {
      "image/png": "[encoded data removed]",
      "text/plain": [
       "<Figure size 432x288 with 1 Axes>"
      ]
     },
     "metadata": {},
     "output_type": "display_data"
    }
   ],
   "source": [
    "sns.set(style='white', font='arial', font_scale=1.3, rc=None)\n",
    "ax=sns.scatterplot(x='avg real choice',y='predicted avg choice',data=df_residual)\n",
    "# plt.plot(X_plot, Y_plot, color='r')\n",
    "plt.tight_layout()\n",
    "plt.savefig('sigmoid_pred_actual_choice_from_fixedeffectdiverginess.png',dpi=300)\n",
    "plt.show()"
   ]
  },
  {
   "cell_type": "code",
   "execution_count": null,
   "metadata": {},
   "outputs": [],
   "source": []
  }
 ],
 "metadata": {
  "kernelspec": {
   "display_name": "Python 3 (ipykernel)",
   "language": "python",
   "name": "python3"
  },
  "language_info": {
   "codemirror_mode": {
    "name": "ipython",
    "version": 3
   },
   "file_extension": ".py",
   "mimetype": "text/x-python",
   "name": "python",
   "nbconvert_exporter": "python",
   "pygments_lexer": "ipython3",
   "version": "3.9.5"
  },
  "vscode": {
   "interpreter": {
    "hash": "b0fa6594d8f4cbf19f97940f81e996739fb7646882a419484c72d19e05852a7e"
   }
  }
 },
 "nbformat": 4,
 "nbformat_minor": 2
}
